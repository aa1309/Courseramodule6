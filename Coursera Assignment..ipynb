{
 "cells": [
  {
   "cell_type": "markdown",
   "id": "e7d44978",
   "metadata": {},
   "source": [
    "# 1.Assignment Coursera (Jupyter Notebook)."
   ]
  },
  {
   "cell_type": "markdown",
   "id": "be3f228c",
   "metadata": {},
   "source": [
    "# 2.Practice of Jupyter Notebook."
   ]
  },
  {
   "cell_type": "markdown",
   "id": "4305ec05",
   "metadata": {},
   "source": [
    " # 3.Data Science Languages:\n",
    " 1. Python\n",
    " 2. R\n",
    " 3. Julia\n",
    " 4. SQL\n",
    " 5. MATLAB\n",
    " 6. Scala\n",
    " 7.  JAVA\n",
    " 8. Haskell\n",
    " 9. Swift\n",
    " 10. GO\n",
    " 11. LUA\n",
    " 12. Ruby"
   ]
  },
  {
   "cell_type": "markdown",
   "id": "e8228378",
   "metadata": {},
   "source": [
    "# 4.List of Data Science Libraries:"
   ]
  },
  {
   "cell_type": "markdown",
   "id": "a71bcc76",
   "metadata": {},
   "source": [
    "1  . NumPy\n",
    "\n",
    "2  . Keras\n",
    "\n",
    "3  . Pandas\n",
    "\n",
    "4  . PyTorch\n",
    "\n",
    "5  . SciPy\n",
    "\n",
    "6  . Scikit-Learn\n",
    "\n",
    "7  . TensorFlow\n",
    "\n",
    "8  . Matplotlib\n",
    "\n",
    "9  . Seaborn\n",
    "\n",
    "10 .Theano\n",
    "\n",
    "11.Scrapy\n",
    "12. BeautifulSoup\n",
    "13. LightGBM\n",
    "14. ELI5\n",
    "15. Mahotas\n",
    "16. SimpleITK\n",
    "17. Pillow\n",
    "18. Statsmodels\n",
    "19. OpenCV\n",
    "20. Bokeh"
   ]
  },
  {
   "cell_type": "markdown",
   "id": "c28a8b88",
   "metadata": {},
   "source": [
    "# 5.Tables and Classification of Tools of Data Science\n",
    "## Data Ingestion and Storage:\n",
    "\n",
    "## Tool\tDescription\n",
    "Apache Spark\tUnified analytics engine for large-scale data processing\n",
    "Pandas\tLibrary for data manipulation and analysis\n",
    "Apache Hadoop\tDistributed computing framework for big data\n",
    "Amazon S3\tCloud-based object storage\n",
    "Google BigQuery\tFully-managed enterprise data warehouse\n",
    "\n",
    "# Data Preprocessing and Cleaning\n",
    "\n",
    " ## Tool\tDescription\n",
    "Pandas\tLibrary for data manipulation and analysis\n",
    "NumPy\tLibrary for numerical computing\n",
    "OpenRefine\tData refinement and cleaning tool\n",
    "DataCleansing\tLibrary for data cleaning and preprocessing\n",
    "Trifacta\tData wrangling and preparation platform\n",
    "# Machine Learning and Modeling\n",
    "\n",
    "## Tool\tDescription\n",
    "Scikit-Learn\tMachine learning library for Python\n",
    "TensorFlow\tOpen-source machine learning framework\n",
    "Keras\tDeep learning library for Python\n",
    "PyTorch\tOpen-source machine learning framework\n",
    "XGBoost\tGradient boosting library\n",
    "\n",
    "# Data Visualization\n",
    "\n",
    "## Tool\tDescription\n",
    "Matplotlib\tPlotting library for Python\n",
    "Seaborn\tVisualization library based on Matplotlib\n",
    "Plotly\tInteractive visualization library\n",
    "Bokeh\tInteractive visualization library\n",
    "Tableau\tData visualization and business intelligence platform\n",
    "# Big Data Analytics\n",
    "\n",
    "## Tool\tDescription\n",
    "Apache Hadoop\tDistributed computing framework for big data\n",
    "Apache Spark\tUnified analytics engine for large-scale data processing\n",
    "Hive\tData warehousing and SQL-like query language\n",
    "Pig\tHigh-level data processing language\n",
    "Apache Flink\tDistributed processing engine for stateful computations\n",
    "# Deep Learning\n",
    "\n",
    "## Tool\tDescription\n",
    "TensorFlow\tOpen-source machine learning framework\n",
    "PyTorch\tOpen-source machine learning framework Keras\tDeep learning library for Python\n",
    "OpenCV\tComputer vision library\n",
    "CNTK\tDeep learning framework\n",
    "# Natural Language Processing\n",
    "\n",
    "## Tool\tDescription\n",
    "NLTK\tNatural language processing library\n",
    "spaCy\tModern natural language processing library\n",
    "Gensim\tTopic modeling and document similarity analysis library\n",
    "Stanford CoreNLP\tJava library for natural language processing\n",
    "OpenNLP\tMaximum entropy-based machine learning library\n",
    "# Other Tools\n",
    "\n",
    "## Tool\tDescription\n",
    "Jupyter Notebook\tInteractive computing environment\n",
    "Git\tVersion control system\n",
    "Docker\tContainerization platform\n",
    "Kaggle\tPlatform for data science competitions and hosting datasets\n",
    "DataRobot\tAutomated machine learning platform"
   ]
  },
  {
   "cell_type": "markdown",
   "id": "28673d3a",
   "metadata": {},
   "source": [
    "# 6.Arithmetic Expression Examples:\n",
    "# #1. Simple expressions:\n",
    "2 + 3\n",
    "5 - 2\n",
    "4 × 6\n",
    "8 ÷ 2\n",
    "\n",
    "# #2. Expressions with multiple operations:\n",
    "2 + 3 × 4\n",
    "10 - 2 + 5\n",
    "7 × 2 - 3\n",
    "9 + 1 ÷ 3\n",
    "\n",
    "# #3. Expressions with parentheses:\n",
    "(2 + 3) × 4\n",
    "10 - (2 + 5)\n",
    "(7 - 3) × 2\n",
    "(9 + 1) ÷ 3\n",
    "\n",
    "# #4. Expressions with variables:\n",
    "2x + 5\n",
    "x - 3\n",
    "4y × 2\n",
    "z ÷ 2"
   ]
  },
  {
   "cell_type": "code",
   "execution_count": 1,
   "id": "606acf1f",
   "metadata": {},
   "outputs": [
    {
     "name": "stdout",
     "output_type": "stream",
     "text": [
      "Addition of a and b is = 86\n"
     ]
    }
   ],
   "source": [
    "##7.\n",
    "# Addition of two numbers:\n",
    "\n",
    "a = 37\n",
    "b = 49\n",
    "c = a+b\n",
    "print(\"Addition of a and b is =\", c)"
   ]
  },
  {
   "cell_type": "code",
   "execution_count": 3,
   "id": "268a0467",
   "metadata": {},
   "outputs": [
    {
     "name": "stdout",
     "output_type": "stream",
     "text": [
      "Multiplication of a and b is = 72\n"
     ]
    }
   ],
   "source": [
    "## 8.\n",
    "# Multiplication of two numbers\n",
    "\n",
    "a = 9\n",
    "b = 8\n",
    "c = a*b\n",
    "print(\"Multiplication of a and b is =\", c)"
   ]
  },
  {
   "cell_type": "code",
   "execution_count": 5,
   "id": "082ce09d",
   "metadata": {},
   "outputs": [
    {
     "name": "stdout",
     "output_type": "stream",
     "text": [
      "minutes in hours is = 10.333333333333334\n"
     ]
    }
   ],
   "source": [
    "## 9.\n",
    "# convert minutes to hours\n",
    "minutes = 620\n",
    "hour = minutes/60\n",
    "print(\"minutes in hours is =\", hour)"
   ]
  },
  {
   "cell_type": "markdown",
   "id": "cabbcd47",
   "metadata": {},
   "source": [
    "# 10.Objective of Jupyter Notebook\n",
    "1.Interactive Computing\n",
    "\n",
    "2.Data Science and Scientific Computing\n",
    "\n",
    "3.Education and Research\n",
    "\n",
    "4.Collaboration and Sharing\n",
    "\n",
    "5.Reproducibility and Transparency\n",
    "\n",
    "6.Cross-Language Support\n",
    "\n",
    "7.Web-Based Interface"
   ]
  },
  {
   "cell_type": "markdown",
   "id": "2c5bbb65",
   "metadata": {},
   "source": [
    "# 11.Author's Name:\n",
    "1.Andrew Ng - \"Machine Learning Yearning\"\n",
    "\n",
    "2.Yaser Abu-Mostafa - \"Learning From Data\"\n",
    "\n",
    "3.Christopher Bishop - \"Pattern Recognition and Machine Learning\"\n",
    "\n",
    "4.David M. Blei, Andrew Y. Ng, and Michael I. Jordan - \"Latent Dirichlet Allocation\"\n",
    "\n",
    "5.Hadley Wickham and Garrett Grolemund - \"R for Data Science\"\n",
    "\n",
    "6.Nathan F. Russell - \"Data Science for Dummies\"\n",
    "\n",
    "7.Joel Grus - \"Data Science with Python and R\"\n",
    "\n",
    "8.Peter Bruce and Andrew Bruce - \"Practical Statistics for Data Scientists\"\n",
    "\n",
    "9.Foster Provost and Tom Fawcett - \"Data Science for Business\"\n",
    "\n",
    "10.Rachel Schutt and Cathy O'Neil - \"Doing Data Science\"\n",
    "\n",
    "11.John Hearty - \"Data Science Handbook\"\n",
    "\n",
    "12.Sebastian Raschka - \"Python Machine Learning\"\n",
    "\n",
    "13.Aurelien Geron - \"Hands-On Machine Learning with Scikit-Learn, Keras, and TensorFlow\"\n",
    "\n",
    "14.Ian Goodfellow, Yoshua Bengio, and Aaron Courville - \"Deep Learning\"\n",
    "\n",
    "15.Michael I. Jordan - \"Machine Learning\"\n",
    "\n",
    "16.Trevor Hastie, Robert Tibshirani, and Jerome Friedman - \"The Elements of Statistical Learning\"\n",
    "\n",
    "17.David Donoho - \"High-Dimensional Data Analysis: The Curses and Blessings of Dimensionality\"\n",
    "\n",
    "18.Pedro Domingos - \"The Master Algorithm\"\n",
    "\n",
    "19.DJ Patil - \"Data Jujitsu: The Art of Turning Data into Product\"\n",
    "\n",
    "20.Hilary Mason and DJ Patil - \"Data Driven: Creating a Data Culture\""
   ]
  },
  {
   "cell_type": "code",
   "execution_count": null,
   "id": "f4468e99",
   "metadata": {},
   "outputs": [],
   "source": []
  }
 ],
 "metadata": {
  "kernelspec": {
   "display_name": "Python 3 (ipykernel)",
   "language": "python",
   "name": "python3"
  },
  "language_info": {
   "codemirror_mode": {
    "name": "ipython",
    "version": 3
   },
   "file_extension": ".py",
   "mimetype": "text/x-python",
   "name": "python",
   "nbconvert_exporter": "python",
   "pygments_lexer": "ipython3",
   "version": "3.11.4"
  }
 },
 "nbformat": 4,
 "nbformat_minor": 5
}
